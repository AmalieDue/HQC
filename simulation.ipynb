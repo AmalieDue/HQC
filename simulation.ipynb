{
 "cells": [
  {
   "cell_type": "code",
   "execution_count": null,
   "metadata": {},
   "outputs": [],
   "source": [
    "%run HQC.ipynb\n",
    "\n",
    "for j in range(51,56):\n",
    "    print(j)\n",
    "    C = HQC(w = j, w_e = j, w_r = j, C = ConcatenatedCode(RSCode(n = 138, k = 16, q = 2**8), RMCode(r = 1, m = 7)), key_type = 'pol')\n",
    "    print(C.n)\n",
    "    success = 0\n",
    "    minimum_decodable_error = C.n\n",
    "    maximum_decodable_error = 0\n",
    "    minimum_non_decodable_error = C.n\n",
    "    maximum_non_decodable_error = 0\n",
    "\n",
    "    for i in range(200):\n",
    "        #if (i % 50) == 0:\n",
    "        print(i)\n",
    "        m = ''\n",
    "        for i in range(C.k):\n",
    "            e = ZZ.random_element(0,2)\n",
    "            m = m + str(e)\n",
    "\n",
    "        c = C.Encrypt(m, out = 'bin')\n",
    "        if C.decodable_error_wt < minimum_decodable_error:\n",
    "            minimum_decodable_error = C.decodable_error_wt\n",
    "        if C.decodable_error_wt > maximum_decodable_error:\n",
    "            maximum_decodable_error = C.decodable_error_wt\n",
    "        if C.non_decodable_error_wt < minimum_non_decodable_error:\n",
    "            minimum_non_decodable_error = C.non_decodable_error_wt\n",
    "        if C.non_decodable_error_wt > maximum_non_decodable_error:\n",
    "            maximum_non_decodable_error = C.non_decodable_error_wt\n",
    "\n",
    "        d = C.Decrypt(c, out = 'bin')\n",
    "\n",
    "        if d == m:\n",
    "            #print('success\\n')\n",
    "            success += 1\n",
    "\n",
    "    print('num_ct_decoding_success:', C.num_ct_decoding_success)\n",
    "    print(success)\n",
    "    print(minimum_decodable_error)\n",
    "    print(maximum_decodable_error)\n",
    "    print(minimum_non_decodable_error)\n",
    "    print(maximum_non_decodable_error)"
   ]
  }
 ],
 "metadata": {
  "kernelspec": {
   "display_name": "SageMath 9.4",
   "language": "sage",
   "name": "sagemath-9.4"
  },
  "language_info": {
   "codemirror_mode": {
    "name": "ipython",
    "version": 3
   },
   "file_extension": ".py",
   "mimetype": "text/x-python",
   "name": "python",
   "nbconvert_exporter": "python",
   "pygments_lexer": "ipython3",
   "version": "3.9.5"
  }
 },
 "nbformat": 4,
 "nbformat_minor": 4
}
