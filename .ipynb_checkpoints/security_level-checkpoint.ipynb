{
 "cells": [
  {
   "cell_type": "markdown",
   "metadata": {},
   "source": [
    "## Security Level"
   ]
  },
  {
   "cell_type": "markdown",
   "metadata": {},
   "source": [
    "### Simulation of the minimum distance of a random code and Prange's work factor"
   ]
  },
  {
   "cell_type": "code",
   "execution_count": 1,
   "metadata": {},
   "outputs": [],
   "source": [
    "def random_code_min_distance_simulation(n):\n",
    "    \n",
    "    # define field and ring\n",
    "    F = GF(2)\n",
    "    R = PolynomialRing(F, 'x'); x = R.gen()\n",
    "    S = QuotientRing(R, x**n - 1, 'a'); a = S.gen()\n",
    "    \n",
    "    # left part of parity check matrix \n",
    "    H_left = matrix.identity(n)\n",
    "    \n",
    "    min_dist = n\n",
    "    \n",
    "    for i in range(5):\n",
    "        \n",
    "        # generate random h\n",
    "        h = R.random_element(degree=(0, n))\n",
    "        h = S(h)\n",
    "        h = h.list()\n",
    "        \n",
    "        # right part of parity check matrix, i.e. rotation matrix of random h\n",
    "        H_right = matrix(F, n, n, lambda i,j : h[(i - j) % n])\n",
    "        \n",
    "        # full parity check matrix\n",
    "        H = block_matrix(1, 2, [H_left, H_right])\n",
    "        \n",
    "        # since only H is known, the dual code is defined, and then afterwards the dual code of the dual code\n",
    "        C_dual = LinearCode(H)\n",
    "        C = C_dual.dual_code()\n",
    "        \n",
    "        if C.minimum_distance() < min_dist:\n",
    "            min_dist = C.minimum_distance()\n",
    "        \n",
    "    return min_dist\n",
    "\n",
    "\n",
    "def Prange_work_factor(n, k, t):\n",
    "    \n",
    "    work_factor = floor(binomial(n,k) / binomial(n-t,k) * k**3)\n",
    "    \n",
    "    return floor(log(work_factor, 2))"
   ]
  },
  {
   "cell_type": "code",
   "execution_count": 2,
   "metadata": {},
   "outputs": [],
   "source": [
    "n = 20\n",
    "k = n // 2"
   ]
  },
  {
   "cell_type": "code",
   "execution_count": 3,
   "metadata": {},
   "outputs": [
    {
     "name": "stdout",
     "output_type": "stream",
     "text": [
      "4\n"
     ]
    }
   ],
   "source": [
    "d = random_code_min_distance_simulation(n)\n",
    "print(d)\n",
    "\n",
    "t = floor( (d - 1) / 2)"
   ]
  },
  {
   "cell_type": "code",
   "execution_count": 4,
   "metadata": {},
   "outputs": [
    {
     "data": {
      "text/plain": [
       "10"
      ]
     },
     "execution_count": 4,
     "metadata": {},
     "output_type": "execute_result"
    }
   ],
   "source": [
    "Prange_work_factor(n, k, t)"
   ]
  },
  {
   "cell_type": "code",
   "execution_count": null,
   "metadata": {},
   "outputs": [],
   "source": []
  }
 ],
 "metadata": {
  "kernelspec": {
   "display_name": "SageMath 9.4",
   "language": "sage",
   "name": "sagemath-9.4"
  },
  "language_info": {
   "codemirror_mode": {
    "name": "ipython",
    "version": 3
   },
   "file_extension": ".py",
   "mimetype": "text/x-python",
   "name": "python",
   "nbconvert_exporter": "python",
   "pygments_lexer": "ipython3",
   "version": "3.9.5"
  }
 },
 "nbformat": 4,
 "nbformat_minor": 4
}
