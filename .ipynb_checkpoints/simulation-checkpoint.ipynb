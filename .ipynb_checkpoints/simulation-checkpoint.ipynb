{
 "cells": [
  {
   "cell_type": "code",
   "execution_count": null,
   "metadata": {},
   "outputs": [],
   "source": [
    "%run HQC.ipynb\n",
    "import pickle\n",
    "import time\n",
    "#from sage.all import *\n",
    "#from HQC import *\n",
    "\n",
    "w = 61\n",
    "trials = 1000\n",
    "\n",
    "current_time = time.strftime(\"%m.%d.%y %H:%M:%S\", time.localtime())\n",
    "output_name = 'out/concat RSRM1 w=%s %s.pkl' % (w, current_time)\n",
    "\n",
    "# concat_RS_RM_1 = ConcatenatedCode(RSCode(n = 138, k = 16, q = 2**8), RMCode(r = 1, m = 7, q = 2))\n",
    "\n",
    "\n",
    "num_success = 0\n",
    "minimum_decodable_error = 138 * 128\n",
    "maximum_decodable_error = 0\n",
    "minimum_non_decodable_error = 138 * 128\n",
    "maximum_non_decodable_error = 0\n",
    "num_ct_decoding_success = 0\n",
    "\n",
    "\n",
    "for i in range(trials):\n",
    "    C = HQC(w = w , w_e = w , w_r = w, C = ConcatenatedCode(RSCode(n = 138, k = 16, q = 2**8), RMCode(r = 1, m = 7, q = 2)), key_type = 'pol', simulation = True)\n",
    "    m = ''\n",
    "    for i in range(C.k):\n",
    "        e = ZZ.random_element(0,2)\n",
    "        m = m + str(e)\n",
    "\n",
    "    c = C.Encrypt(m, out = 'bin')\n",
    "    if C.decodable_error_wt < minimum_decodable_error:\n",
    "        minimum_decodable_error = C.decodable_error_wt\n",
    "    if C.decodable_error_wt > maximum_decodable_error:\n",
    "        maximum_decodable_error = C.decodable_error_wt\n",
    "    if C.non_decodable_error_wt < minimum_non_decodable_error:\n",
    "        minimum_non_decodable_error = C.non_decodable_error_wt\n",
    "    if C.non_decodable_error_wt > maximum_non_decodable_error:\n",
    "        maximum_non_decodable_error = C.non_decodable_error_wt\n",
    "        \n",
    "    if C.ct_decoding_success == 1:\n",
    "        num_ct_decoding_success += 1\n",
    "\n",
    "    d = C.Decrypt(c, out = 'bin')\n",
    "\n",
    "    if d == m:\n",
    "        num_success += 1\n",
    "\n",
    "        \n",
    "with open(output_name, \"wb\") as f:\n",
    "    pickle.dump((num_ct_decoding_success, num_success, minimum_decodable_error, maximum_decodable_error, minimum_non_decodable_error, maximum_non_decodable_error),f)\n"
   ]
  },
  {
   "cell_type": "code",
   "execution_count": null,
   "metadata": {},
   "outputs": [],
   "source": [
    "#with open(output_name, \"rb\") as f:\n",
    "#    print(pickle.load(f))\n"
   ]
  }
 ],
 "metadata": {
  "kernelspec": {
   "display_name": "SageMath 9.4",
   "language": "sage",
   "name": "sagemath-9.4"
  },
  "language_info": {
   "codemirror_mode": {
    "name": "ipython",
    "version": 3
   },
   "file_extension": ".py",
   "mimetype": "text/x-python",
   "name": "python",
   "nbconvert_exporter": "python",
   "pygments_lexer": "ipython3",
   "version": "3.9.5"
  }
 },
 "nbformat": 4,
 "nbformat_minor": 4
}
