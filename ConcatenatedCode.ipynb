{
 "cells": [
  {
   "cell_type": "code",
   "execution_count": 1,
   "metadata": {},
   "outputs": [],
   "source": [
    "%run RS.ipynb\n",
    "%run RM.ipynb"
   ]
  },
  {
   "cell_type": "code",
   "execution_count": 6,
   "metadata": {},
   "outputs": [],
   "source": [
    "class ConcatenatedCode:\n",
    "    \n",
    "    def __init__ (self, code1, code2):\n",
    "        \n",
    "        self.C1 = code1\n",
    "        self.C2 = code2\n",
    "        \n",
    "        p, k = is_prime_power(self.C1.q, get_data = True)\n",
    "        if self.C2.k != k:\n",
    "            raise ValueError('Wrong pair of codes: Extension power of C1.q does not match C2.k')\n",
    "        if self.C2.F != GF(p):\n",
    "            raise ValueError('Wrong pair of codes: Extension field and base field do not fit together')\n",
    "            \n",
    "        print('Preferred message data type is: ', self.C1.message_type)\n",
    "            \n",
    "    def Encoding(self, m, out = 'pol'):\n",
    "        \n",
    "        data_type = self._DetermineInput(m)\n",
    "        \n",
    "        if data_type != self.C1.message_type:\n",
    "            raise ValueError('Message data type does not match the preferred type. The preferred type is: ', self.C1.message_type)\n",
    "            \n",
    "        c = self.C1.Encoding(m, out = 'bin')\n",
    "    \n",
    "        c = self.C2.Encoding(c, out = out)\n",
    "        \n",
    "        return c\n",
    "    \n",
    "        \n",
    "    def Decoding(self, r, out = 'bin'):\n",
    "        \n",
    "        c = self.C2.Decoding(r, out = 'bin')\n",
    "        \n",
    "        c = self.C1.Decoding(c, out = out)\n",
    "        \n",
    "        return c\n",
    "    \n",
    "    \n",
    "    def _DetermineInput(self, data):\n",
    "\n",
    "        # determine data type\n",
    "\n",
    "        if isinstance(data, str) and all([(bit == '1' or bit == '0') for bit in data]):\n",
    "            return 'bin'\n",
    "\n",
    "        #elif isinstance(data, list):\n",
    "        if data[0] == None:\n",
    "            return 'none'\n",
    "        elif data[0].parent() == self.C1.F:\n",
    "            return 'pol'\n",
    "        elif data[0].parent() == ZZ:\n",
    "            return 'int'\n",
    "        else:\n",
    "            return 'unknown'"
   ]
  },
  {
   "cell_type": "code",
   "execution_count": 7,
   "metadata": {},
   "outputs": [],
   "source": [
    "#C = ConcatenatedCode(RSCode(n=15, k=7, q=2**4), RMCode(r=1, m=3))"
   ]
  },
  {
   "cell_type": "code",
   "execution_count": 8,
   "metadata": {},
   "outputs": [],
   "source": [
    "#m = '10101010101011010'\n",
    "#m = [1,2,3,4,5,6,0,0]\n",
    "#c = C.Encoding(m, out = 'bin')\n",
    "#print(c)\n",
    "#d = C.Decoding(c, out = 'int')\n",
    "#print(d)"
   ]
  },
  {
   "cell_type": "code",
   "execution_count": null,
   "metadata": {},
   "outputs": [],
   "source": []
  }
 ],
 "metadata": {
  "kernelspec": {
   "display_name": "SageMath 9.4",
   "language": "sage",
   "name": "sagemath-9.4"
  },
  "language_info": {
   "codemirror_mode": {
    "name": "ipython",
    "version": 3
   },
   "file_extension": ".py",
   "mimetype": "text/x-python",
   "name": "python",
   "nbconvert_exporter": "python",
   "pygments_lexer": "ipython3",
   "version": "3.9.5"
  }
 },
 "nbformat": 4,
 "nbformat_minor": 4
}
