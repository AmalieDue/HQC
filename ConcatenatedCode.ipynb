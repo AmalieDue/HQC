{
 "cells": [
  {
   "cell_type": "code",
   "execution_count": 1,
   "metadata": {},
   "outputs": [],
   "source": [
    "%run RS.ipynb\n",
    "%run RM.ipynb"
   ]
  },
  {
   "cell_type": "code",
   "execution_count": 2,
   "metadata": {},
   "outputs": [],
   "source": [
    "%run Conversions.ipynb\n",
    "\n",
    "class ConcatenatedCode:\n",
    "    \n",
    "    def __init__ (self, code1, code2):\n",
    "        \n",
    "        self.C1 = code1\n",
    "        self.C2 = code2\n",
    "        \n",
    "        self.n = self.C1.n * self.C2.n\n",
    "        self.k = self.C1.k * self.C2.k\n",
    "        self.d = self.C1.d * self.C2.d\n",
    "        self.delta = floor( (self.d - 1) / 2)\n",
    "        \n",
    "        p, k = is_prime_power(self.C1.q, get_data = True)\n",
    "        \n",
    "        if self.C2.k != k:\n",
    "            raise ValueError('Wrong pair of codes: Extension power of C1.q does not match C2.k')\n",
    "        if self.C2.F != GF(p):\n",
    "            raise ValueError('Wrong pair of codes: Extension field and base field do not fit together')\n",
    "            \n",
    "            \n",
    "    def Encoding(self, m, out = 'pol'):\n",
    "            \n",
    "        c = self.C1.Encoding(m, out = 'bin')\n",
    "    \n",
    "        c = self.C2.Encoding(c, out = out)\n",
    "        \n",
    "        return c\n",
    "    \n",
    "        \n",
    "    def Decoding(self, r, out = 'bin'):\n",
    "        \n",
    "        c = self.C2.Decoding(r, out = 'bin')\n",
    "        \n",
    "        c = self.C1.Decoding(c, out = out)\n",
    "        \n",
    "        return c"
   ]
  },
  {
   "cell_type": "code",
   "execution_count": 3,
   "metadata": {},
   "outputs": [],
   "source": [
    "#C = ConcatenatedCode(RSCode(n=255, k=225, q=2**8), RSCode(n=127, k=8, q=2))\n",
    "#C.C2.n"
   ]
  },
  {
   "cell_type": "code",
   "execution_count": 4,
   "metadata": {},
   "outputs": [],
   "source": [
    "#m = '10101010101011010'\n",
    "#m = [1,2,3,4,5,6,0]\n",
    "#c = C.Encoding(m, out = 'bin')\n",
    "#print(c)\n",
    "#d = C.Decoding(c, out = 'int')\n",
    "#print(d)"
   ]
  },
  {
   "cell_type": "code",
   "execution_count": null,
   "metadata": {},
   "outputs": [],
   "source": []
  }
 ],
 "metadata": {
  "kernelspec": {
   "display_name": "SageMath 9.4",
   "language": "sage",
   "name": "sagemath-9.4"
  },
  "language_info": {
   "codemirror_mode": {
    "name": "ipython",
    "version": 3
   },
   "file_extension": ".py",
   "mimetype": "text/x-python",
   "name": "python",
   "nbconvert_exporter": "python",
   "pygments_lexer": "ipython3",
   "version": "3.9.5"
  }
 },
 "nbformat": 4,
 "nbformat_minor": 4
}
