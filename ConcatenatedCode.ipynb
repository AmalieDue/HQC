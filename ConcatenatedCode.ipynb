{
 "cells": [
  {
   "cell_type": "code",
   "execution_count": 3,
   "metadata": {},
   "outputs": [
    {
     "name": "stdout",
     "output_type": "stream",
     "text": [
      "codeword:  [0, z4^2 + 1, 1, z4^2 + z4, z4^3 + z4^2 + z4 + 1, z4^3 + z4 + 1, z4^3 + z4^2 + z4, z4^3 + 1, z4^3, z4^3, z4^3 + 1, z4^3 + z4^2 + z4, z4^2 + z4 + 1, z4^3 + z4^2, z4^3 + z4^2]\n",
      "decoded word:  [1, 2, 3, 4, 5, 6, 7]\n",
      "codeword:  (1, 0, 1, 0, 1, 0, 1, 0, 1, 0, 1, 0, 1, 0, 1, 0, 1, 0, 1, 0, 1, 0, 1, 0, 1, 0, 1, 0, 1, 0, 1, 0)\n",
      "decoded word:  (1, 1, 0, 0, 1, 1, 0, 0, 1, 1, 0, 0, 1, 1, 0, 0)\n"
     ]
    }
   ],
   "source": [
    "%run RS.ipynb\n",
    "%run RM.ipynb"
   ]
  },
  {
   "cell_type": "code",
   "execution_count": 4,
   "metadata": {},
   "outputs": [],
   "source": [
    "%run Conversions.ipynb\n",
    "\n",
    "class ConcatenatedCode:\n",
    "    \n",
    "    def __init__ (self, code1, code2):\n",
    "        \n",
    "        self.C1 = code1\n",
    "        self.C2 = code2\n",
    "        \n",
    "        self.n = self.C1.n * self.C2.n\n",
    "        self.k = self.C1.k * self.C2.k\n",
    "        self.d = self.C1.d * self.C2.d\n",
    "        self.delta = floor( (self.d - 1) / 2)\n",
    "        \n",
    "        p, k = is_prime_power(self.C1.q, get_data = True)\n",
    "        if self.C2.k != k:\n",
    "            raise ValueError('Wrong pair of codes: Extension power of C1.q does not match C2.k')\n",
    "        if self.C2.F != GF(p):\n",
    "            raise ValueError('Wrong pair of codes: Extension field and base field do not fit together')\n",
    "            \n",
    "        print('Preferred message data type is: ', self.C1.message_type)\n",
    "            \n",
    "    def Encoding(self, m, out = 'pol'):\n",
    "        \n",
    "        data_type = _DetermineInput(m, self.C1.q)\n",
    "        \n",
    "        if data_type != self.C1.message_type:\n",
    "            raise ValueError('Message data type does not match the preferred type. The preferred type is: ', self.C1.message_type)\n",
    "            \n",
    "        c = self.C1.Encoding(m, out = 'bin')\n",
    "    \n",
    "        c = self.C2.Encoding(c, out = out)\n",
    "        \n",
    "        return c\n",
    "    \n",
    "        \n",
    "    def Decoding(self, r, out = 'bin'):\n",
    "        \n",
    "        c = self.C2.Decoding(r, out = 'bin')\n",
    "        \n",
    "        c = self.C1.Decoding(c, out = out)\n",
    "        \n",
    "        return c"
   ]
  },
  {
   "cell_type": "code",
   "execution_count": 8,
   "metadata": {},
   "outputs": [
    {
     "name": "stdout",
     "output_type": "stream",
     "text": [
      "Preferred message data type is:  int\n"
     ]
    },
    {
     "data": {
      "text/plain": [
       "28"
      ]
     },
     "execution_count": 8,
     "metadata": {},
     "output_type": "execute_result"
    }
   ],
   "source": [
    "C = ConcatenatedCode(RSCode(n=15, k=7, q=2**4), RMCode(r=1, m=3))\n",
    "C.k"
   ]
  },
  {
   "cell_type": "code",
   "execution_count": 10,
   "metadata": {},
   "outputs": [
    {
     "name": "stdout",
     "output_type": "stream",
     "text": [
      "011010010110100111001100110000111010101010101010101010100011001101011010110000111001100110101010101010100000111110010110\n",
      "[1, 2, 3, 4, 5, 6, 0]\n"
     ]
    }
   ],
   "source": [
    "#m = '10101010101011010'\n",
    "m = [1,2,3,4,5,6,0]\n",
    "c = C.Encoding(m, out = 'bin')\n",
    "print(c)\n",
    "d = C.Decoding(c, out = 'int')\n",
    "print(d)"
   ]
  },
  {
   "cell_type": "code",
   "execution_count": 11,
   "metadata": {},
   "outputs": [
    {
     "data": {
      "text/plain": [
       "7"
      ]
     },
     "execution_count": 11,
     "metadata": {},
     "output_type": "execute_result"
    }
   ],
   "source": [
    "C.C1.k"
   ]
  },
  {
   "cell_type": "code",
   "execution_count": null,
   "metadata": {},
   "outputs": [],
   "source": []
  }
 ],
 "metadata": {
  "kernelspec": {
   "display_name": "SageMath 9.4",
   "language": "sage",
   "name": "sagemath-9.4"
  },
  "language_info": {
   "codemirror_mode": {
    "name": "ipython",
    "version": 3
   },
   "file_extension": ".py",
   "mimetype": "text/x-python",
   "name": "python",
   "nbconvert_exporter": "python",
   "pygments_lexer": "ipython3",
   "version": "3.9.5"
  }
 },
 "nbformat": 4,
 "nbformat_minor": 4
}
