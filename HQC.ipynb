{
 "cells": [
  {
   "cell_type": "markdown",
   "metadata": {},
   "source": [
    "## HQC"
   ]
  },
  {
   "cell_type": "code",
   "execution_count": 1,
   "metadata": {},
   "outputs": [],
   "source": [
    "%run ProductCode.ipynb\n",
    "%run ConcatenatedCode.ipynb"
   ]
  },
  {
   "cell_type": "code",
   "execution_count": 2,
   "metadata": {},
   "outputs": [],
   "source": [
    "class HQC:\n",
    "    \n",
    "    def __init__(self, w, w_e, w_r, C):\n",
    "        \n",
    "        self.w = w\n",
    "        self.w_e = w_e\n",
    "        self.w_r = w_r\n",
    "        self.C = C\n",
    "        \n",
    "        self.n = self.C.n\n",
    "        self.k = self.C.k\n",
    "        self.delta = self.C.delta\n",
    "        \n",
    "        self.F = GF(2)\n",
    "        self.R = PolynomialRing(self.F, 'x'); x = self.R.gen()\n",
    "        self.S = QuotientRing(self.R, x**self.n - 1, 'a'); a = self.S.gen()\n",
    "        \n",
    "        self.pk, self.sk = self.KeyGen()\n",
    "        \n",
    "        \n",
    "    def KeyGen(self):\n",
    "        \n",
    "        h = self.R.random_element(degree=(0,self.n))\n",
    "        h = self.S(h)\n",
    "        \n",
    "        x = [0] * self.n\n",
    "        x = self.RandomGenWithWeight(x, self.w)\n",
    "        x = self.S(x)\n",
    "        \n",
    "        y = [0] * self.n\n",
    "        y = self.RandomGenWithWeight(y, self.w)\n",
    "        y = self.S(y)\n",
    "        \n",
    "        s = x + h * y\n",
    "        \n",
    "        pk = (h, s)\n",
    "        sk = (x, y)\n",
    "        \n",
    "        return pk, sk\n",
    "    \n",
    "    def Encrypt(self, m):\n",
    "        \n",
    "        u = []\n",
    "        v = []\n",
    "        \n",
    "        for i in range(0, len(m), self.k):\n",
    "            u_current, v_current = self.EncryptBlock(m[i:i+self.k])\n",
    "            u.extend(u_current)\n",
    "            v.extend(v_current)\n",
    "            \n",
    "        return (self.S(u), self.S(v))\n",
    "            \n",
    "    \n",
    "    def EncryptBlock(self, m):\n",
    "        \n",
    "        if len(m) != self.k:\n",
    "            raise ValueError('wrong size of message')\n",
    "        \n",
    "        e = [0] * self.n\n",
    "        e = self.RandomGenWithWeight(e, self.w_e)\n",
    "        e = self.S(e)\n",
    "        \n",
    "        r1 = [0] * self.n\n",
    "        r1 = self.RandomGenWithWeight(r1, self.w_r)\n",
    "        r1 = self.S(r1)\n",
    "        \n",
    "        r2 = [0] * self.n\n",
    "        r2 = self.RandomGenWithWeight(r2, self.w_r)\n",
    "        r2 = self.S(r2)\n",
    "        \n",
    "        #errors = (self.sk[0] * r2 - r1 * self.sk[1] + e).list()\n",
    "        #errors_HW  = errors.count(1)\n",
    "        #print('HW(x * r2 - r1 * y + e) = ', errors_HW)\n",
    "        #print('delta = ', self.delta)\n",
    "        \n",
    "        u = r1 + self.pk[0] * r2\n",
    "        \n",
    "        v = self.C.Encoding(m, out = 'int')\n",
    "        v = self.S(v)\n",
    "        #error_weight = (self.pk[1] * r2 + e).list()\n",
    "        #error_HW  = error_weight.count(1)\n",
    "        #print('HW(s*r2 + e) = ', error_HW)\n",
    "        v = v + self.pk[1] * r2 + e\n",
    "        \n",
    "        return (u,v)\n",
    "    \n",
    "    def Decrypt(self, sk, c):\n",
    "        \n",
    "        d = c[1] - c[0] * sk[1]\n",
    "        d = d.list()\n",
    "        \n",
    "        if len(d) != self.C.code_n:\n",
    "            d = d[:-(self.n - self.C.code_n)]\n",
    "        \n",
    "        return self.C.Decoding(d)\n",
    "        \n",
    "        \n",
    "    def RandomGenWithWeight(self, array, weight):\n",
    "\n",
    "        for i in range(weight):\n",
    "            cur = ZZ.random_element(0,len(array))\n",
    "            while array[cur] == 1:\n",
    "                cur = ZZ.random_element(0,len(array))\n",
    "            \n",
    "            array[cur] = 1\n",
    "        \n",
    "        return array"
   ]
  },
  {
   "cell_type": "code",
   "execution_count": 3,
   "metadata": {},
   "outputs": [],
   "source": [
    "C = HQC(w = 5, w_e = 5, w_r = 5, C = ProductCode(BCHCode(n = 15, b = 1, D = 7), RepetitionCode(n = 5)))"
   ]
  },
  {
   "cell_type": "code",
   "execution_count": 4,
   "metadata": {},
   "outputs": [
    {
     "name": "stdout",
     "output_type": "stream",
     "text": [
      "(a^59 + a^58 + a^56 + a^55 + a^53 + a^52 + a^50 + a^48 + a^46 + a^45 + a^44 + a^43 + a^42 + a^41 + a^39 + a^38 + a^37 + a^30 + a^29 + a^28 + a^27 + a^26 + a^25 + a^24 + a^23 + a^21 + a^18 + a^17 + a^16 + a^14 + a^10 + a^8 + a^7 + a^5 + a^3, a^74 + a^73 + a^71 + a^70 + a^64 + a^63 + a^62 + a^61 + a^60 + a^59 + a^56 + a^55 + a^54 + a^53 + a^52 + a^51 + a^50 + a^49 + a^47 + a^46 + a^42 + a^40 + a^37 + a^35 + a^30 + a^29 + a^27 + a^24 + a^23 + a^22 + a^21 + a^19 + a^18 + a^16 + a^12 + a^11 + a^10 + a^6 + a^4 + a^3 + a^2 + 1)\n"
     ]
    }
   ],
   "source": [
    "print(C.pk)"
   ]
  },
  {
   "cell_type": "code",
   "execution_count": 5,
   "metadata": {},
   "outputs": [
    {
     "name": "stdout",
     "output_type": "stream",
     "text": [
      "(a^70 + a^57 + a^44 + a^31 + a^30, a^60 + a^57 + a^48 + a^27 + a^3)\n"
     ]
    }
   ],
   "source": [
    "print(C.sk)"
   ]
  },
  {
   "cell_type": "code",
   "execution_count": 6,
   "metadata": {},
   "outputs": [
    {
     "name": "stdout",
     "output_type": "stream",
     "text": [
      "(0, 0, 0, 1, 0)\n"
     ]
    }
   ],
   "source": [
    "m = []\n",
    "for i in range(C.k):\n",
    "    elem = ZZ.random_element(0,2)\n",
    "    m.append(elem)\n",
    "    \n",
    "m = vector(C.F, m)\n",
    "print(m)"
   ]
  },
  {
   "cell_type": "code",
   "execution_count": 7,
   "metadata": {},
   "outputs": [],
   "source": [
    "m = '10101'"
   ]
  },
  {
   "cell_type": "code",
   "execution_count": 8,
   "metadata": {},
   "outputs": [
    {
     "name": "stdout",
     "output_type": "stream",
     "text": [
      "(a^74 + a^73 + a^72 + a^71 + a^70 + a^68 + a^67 + a^63 + a^62 + a^60 + a^59 + a^54 + a^53 + a^50 + a^49 + a^48 + a^46 + a^41 + a^40 + a^38 + a^37 + a^32 + a^30 + a^28 + a^27 + a^26 + a^24 + a^23 + a^21 + a^18 + a^17 + a^12 + a^10 + a^9 + a^7 + a^6 + a^2 + a, a^73 + a^70 + a^69 + a^68 + a^66 + a^62 + a^61 + a^60 + a^59 + a^58 + a^56 + a^55 + a^52 + a^51 + a^50 + a^49 + a^48 + a^47 + a^44 + a^42 + a^39 + a^35 + a^34 + a^32 + a^31 + a^28 + a^26 + a^24 + a^23 + a^22 + a^21 + a^20 + a^18 + a^17 + a^16 + a^15 + a^14 + a^13 + a^12 + a^11 + a^10 + a^9 + a^7 + a^5 + a^3 + a)\n"
     ]
    }
   ],
   "source": [
    "c = C.Encrypt(m)\n",
    "print(c)"
   ]
  },
  {
   "cell_type": "code",
   "execution_count": 9,
   "metadata": {},
   "outputs": [
    {
     "ename": "NameError",
     "evalue": "name 'code' is not defined",
     "output_type": "error",
     "traceback": [
      "\u001b[0;31m---------------------------------------------------------------------------\u001b[0m",
      "\u001b[0;31mNameError\u001b[0m                                 Traceback (most recent call last)",
      "\u001b[0;32m<ipython-input-9-d26d795527da>\u001b[0m in \u001b[0;36m<module>\u001b[0;34m\u001b[0m\n\u001b[0;32m----> 1\u001b[0;31m \u001b[0md\u001b[0m \u001b[0;34m=\u001b[0m \u001b[0mcode\u001b[0m\u001b[0;34m.\u001b[0m\u001b[0mDecrypt\u001b[0m\u001b[0;34m(\u001b[0m\u001b[0mcode\u001b[0m\u001b[0;34m.\u001b[0m\u001b[0msk\u001b[0m\u001b[0;34m,\u001b[0m \u001b[0mc\u001b[0m\u001b[0;34m)\u001b[0m\u001b[0;34m\u001b[0m\u001b[0;34m\u001b[0m\u001b[0m\n\u001b[0m\u001b[1;32m      2\u001b[0m \u001b[0md\u001b[0m \u001b[0;34m==\u001b[0m \u001b[0mm\u001b[0m\u001b[0;34m\u001b[0m\u001b[0;34m\u001b[0m\u001b[0m\n",
      "\u001b[0;31mNameError\u001b[0m: name 'code' is not defined"
     ]
    }
   ],
   "source": [
    "d = code.Decrypt(code.sk, c)\n",
    "d == m"
   ]
  },
  {
   "cell_type": "code",
   "execution_count": null,
   "metadata": {},
   "outputs": [],
   "source": []
  }
 ],
 "metadata": {
  "kernelspec": {
   "display_name": "SageMath 9.4",
   "language": "sage",
   "name": "sagemath-9.4"
  },
  "language_info": {
   "codemirror_mode": {
    "name": "ipython",
    "version": 3
   },
   "file_extension": ".py",
   "mimetype": "text/x-python",
   "name": "python",
   "nbconvert_exporter": "python",
   "pygments_lexer": "ipython3",
   "version": "3.9.5"
  }
 },
 "nbformat": 4,
 "nbformat_minor": 4
}
