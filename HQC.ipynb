{
 "cells": [
  {
   "cell_type": "markdown",
   "metadata": {},
   "source": [
    "## HQC"
   ]
  },
  {
   "cell_type": "code",
   "execution_count": 70,
   "metadata": {},
   "outputs": [],
   "source": [
    "%run ProductCode.ipynb\n",
    "%run ConcatenatedCode.ipynb\n",
    "%run Conversions.ipynb"
   ]
  },
  {
   "cell_type": "code",
   "execution_count": 71,
   "metadata": {},
   "outputs": [],
   "source": [
    "class HQC:\n",
    "    \n",
    "    def __init__(self, w, w_e, w_r, C, key_type = 'pol'):\n",
    "        \n",
    "        self.w = w\n",
    "        self.w_e = w_e\n",
    "        self.w_r = w_r\n",
    "        self.C = C\n",
    "        self.q = 2\n",
    "        \n",
    "        self.p, self.power = is_prime_power(self.q, get_data = True)\n",
    "        \n",
    "        self.n = self.C.n\n",
    "        self.k = self.C.k\n",
    "        self.delta = self.C.delta\n",
    "        \n",
    "        self.F = GF(self.q)\n",
    "        self.R = PolynomialRing(self.F, 'x'); x = self.R.gen()\n",
    "        self.S = QuotientRing(self.R, x**self.n - 1, 'a'); a = self.S.gen()\n",
    "        \n",
    "        self.pk, self.sk = self.KeyGen(out = key_type)\n",
    "        \n",
    "        \n",
    "    def KeyGen(self, out = 'pol'):\n",
    "        \n",
    "        h = self.R.random_element(degree=(0,self.n))\n",
    "        h = self.S(h)\n",
    "        \n",
    "        x = [0] * self.n\n",
    "        x = self.RandomGenWithWeight(x, self.w)\n",
    "        x = self.S(x)\n",
    "        \n",
    "        y = [0] * self.n\n",
    "        y = self.RandomGenWithWeight(y, self.w)\n",
    "        y = self.S(y)\n",
    "        \n",
    "        s = x + h * y\n",
    "        \n",
    "        if out == 'pol':\n",
    "            pk = (h, s)\n",
    "            sk = (x, y)\n",
    "        elif out == 'int':\n",
    "            pk = (_PolToInt(h, self.q), _PolToInt(s, self.q))\n",
    "            sk = (_PolToInt(x, self.q), _PolToInt(y, self.q))\n",
    "        elif out == 'bin':\n",
    "            pk = (_PolToInt(h, self.q), _PolToInt(s, self.q))\n",
    "            sk = (_PolToInt(x, self.q), _PolToInt(y, self.q))\n",
    "            pk = (_IntToBitString(pk[0], self.q), _IntToBitString(pk[1], self.q))\n",
    "            sk = (_IntToBitString(sk[0], self.q), _IntToBitString(sk[1], self.q))\n",
    "        \n",
    "        return pk, sk\n",
    "    \n",
    "    \n",
    "    def Encrypt(self, message, zeropad = True, out = 'bin'):\n",
    "        \n",
    "        pk_data_type = _DetermineInput(self.pk[0], self.q)\n",
    "        \n",
    "        if pk_data_type == 'pol':\n",
    "            pk = self.pk\n",
    "        elif pk_data_type == 'int':\n",
    "            pk = (self.S(self.pk[0]), self.S(self.pk[1]))\n",
    "        elif pk_data_type == 'bin':\n",
    "            pk = (_BitStringToInt(self.pk[0], self.q), _BitStringToInt(self.pk[1], self.q))\n",
    "            pk = (self.S(pk[0]), self.S(pk[1]))\n",
    "        \n",
    "        \n",
    "        c = self.C.Encoding(message, out = 'int')\n",
    "        \n",
    "        #print(c)\n",
    "        #for i in range(len(c)):\n",
    "        #    c[i] = self.F(c[i])\n",
    "        #print(c)\n",
    "        \n",
    "        #return c\n",
    "    \n",
    "        c = _BitStringToInt(c, self.q)\n",
    "        \n",
    "        u = []\n",
    "        v = []\n",
    "        \n",
    "        for i in range(0, len(c), self.n):\n",
    "            e = [0] * self.n\n",
    "            e = self.RandomGenWithWeight(e, self.w_e)\n",
    "            e = self.S(e)\n",
    "\n",
    "            r1 = [0] * self.n\n",
    "            r1 = self.RandomGenWithWeight(r1, self.w_r)\n",
    "            r1 = self.S(r1)\n",
    "\n",
    "            r2 = [0] * self.n\n",
    "            r2 = self.RandomGenWithWeight(r2, self.w_r)\n",
    "            r2 = self.S(r2)\n",
    "            \n",
    "            u.extend(r1 + pk[0] * r2)\n",
    "            v.extend(self.S(c[i:i+self.n]) + pk[1] * r2 + e)\n",
    "            \n",
    "        if out == 'int':\n",
    "            u, v = (_PolToInt(u, self.q), _PolToInt(v, self.q))\n",
    "        elif out == 'bin':\n",
    "            u, v = _PolToInt(u, self.q), _PolToInt(v, self.q)\n",
    "            u, v = (_IntToBitString(u, self.q), _IntToBitString(v, self.q))\n",
    "        else:\n",
    "            raise ValueError('Unrecognized data type')\n",
    "            \n",
    "        return (u, v)\n",
    "            \n",
    "    \n",
    "    def Decrypt(self, c, out = 'bin'):\n",
    "        \n",
    "        sk_data_type = _DetermineInput(self.sk[0], self.q)\n",
    "        \n",
    "        if sk_data_type == 'pol':\n",
    "            sk = self.sk\n",
    "        elif sk_data_type == 'int':\n",
    "            sk = (self.S(self.sk[0]), self.S(self.sk[1]))\n",
    "        elif sk_data_type == 'bin':\n",
    "            sk = (_BitStringToInt(self.sk[0], self.q), _BitStringToInt(self.sk[1], self.q))\n",
    "            sk = (self.S(sk[0]), self.S(sk[1]))\n",
    "            \n",
    "            \n",
    "        c_data_type = _DetermineInput(c[0], self.q)\n",
    "        \n",
    "        if c_data_type == 'int':\n",
    "            pass\n",
    "        elif c_data_type == 'bin':\n",
    "            c = (_BitStringToInt(c[0], self.q), _BitStringToInt(c[1], self.q))\n",
    "        \n",
    "        \n",
    "        d_out = []\n",
    "        \n",
    "        for i in range(0, len(c[0]), self.n):\n",
    "            d = self.S(c[1][i:i+self.n]) - self.S(c[0][i:i+self.n]) * sk[1]\n",
    "            d = _PolToInt(d, self.q)\n",
    "            d = self.C.Decoding(d, out = 'bin')\n",
    "            d_out.extend(_BitStringToInt(d, self.q))\n",
    "        \n",
    "        \n",
    "        if out == 'int':\n",
    "            pass\n",
    "        elif out == 'bin':\n",
    "            d_out = _IntToBitString(d_out, self.q)\n",
    "        else:\n",
    "            raise ValueError('Unrecognized data type')\n",
    "        \n",
    "        return d_out\n",
    "        \n",
    "        \n",
    "    def RandomGenWithWeight(self, array, weight):\n",
    "\n",
    "        for i in range(weight):\n",
    "            cur = ZZ.random_element(0,len(array))\n",
    "            while array[cur] == 1:\n",
    "                cur = ZZ.random_element(0,len(array))\n",
    "            \n",
    "            array[cur] = 1\n",
    "        \n",
    "        return array"
   ]
  },
  {
   "cell_type": "code",
   "execution_count": 72,
   "metadata": {},
   "outputs": [
    {
     "name": "stdout",
     "output_type": "stream",
     "text": [
      "Public key:  (a^393 + a^392 + a^389 + a^388 + a^386 + a^382 + a^381 + a^379 + a^376 + a^375 + a^373 + a^366 + a^364 + a^363 + a^360 + a^358 + a^355 + a^354 + a^353 + a^349 + a^347 + a^339 + a^338 + a^336 + a^335 + a^333 + a^332 + a^330 + a^328 + a^327 + a^326 + a^323 + a^322 + a^319 + a^318 + a^317 + a^314 + a^313 + a^312 + a^311 + a^309 + a^308 + a^304 + a^303 + a^301 + a^299 + a^296 + a^295 + a^294 + a^290 + a^288 + a^284 + a^282 + a^278 + a^277 + a^275 + a^272 + a^266 + a^259 + a^258 + a^257 + a^256 + a^255 + a^254 + a^251 + a^247 + a^246 + a^245 + a^243 + a^242 + a^239 + a^238 + a^236 + a^235 + a^234 + a^233 + a^231 + a^230 + a^223 + a^222 + a^219 + a^214 + a^212 + a^211 + a^210 + a^207 + a^206 + a^205 + a^204 + a^203 + a^201 + a^200 + a^199 + a^196 + a^194 + a^190 + a^189 + a^188 + a^186 + a^176 + a^175 + a^171 + a^169 + a^168 + a^167 + a^166 + a^165 + a^164 + a^163 + a^160 + a^159 + a^157 + a^156 + a^155 + a^154 + a^153 + a^152 + a^150 + a^149 + a^148 + a^144 + a^143 + a^140 + a^138 + a^132 + a^129 + a^128 + a^127 + a^126 + a^125 + a^124 + a^121 + a^118 + a^116 + a^115 + a^111 + a^109 + a^108 + a^107 + a^106 + a^105 + a^102 + a^101 + a^99 + a^98 + a^97 + a^96 + a^94 + a^92 + a^91 + a^89 + a^88 + a^85 + a^84 + a^82 + a^81 + a^77 + a^73 + a^72 + a^71 + a^70 + a^69 + a^68 + a^67 + a^65 + a^64 + a^62 + a^60 + a^56 + a^54 + a^50 + a^48 + a^47 + a^46 + a^45 + a^43 + a^41 + a^39 + a^37 + a^31 + a^30 + a^18 + a^16 + a^15 + a^13 + a^12 + a^11 + a^9 + a^8 + a^6 + a^3 + 1, a^461 + a^459 + a^457 + a^456 + a^455 + a^454 + a^453 + a^451 + a^448 + a^445 + a^443 + a^439 + a^437 + a^436 + a^435 + a^433 + a^431 + a^430 + a^428 + a^427 + a^423 + a^421 + a^419 + a^418 + a^416 + a^414 + a^412 + a^411 + a^409 + a^408 + a^402 + a^399 + a^398 + a^397 + a^396 + a^395 + a^393 + a^392 + a^388 + a^387 + a^382 + a^381 + a^380 + a^375 + a^373 + a^372 + a^369 + a^363 + a^360 + a^359 + a^358 + a^356 + a^353 + a^352 + a^349 + a^347 + a^346 + a^343 + a^340 + a^337 + a^335 + a^334 + a^333 + a^332 + a^331 + a^330 + a^329 + a^328 + a^325 + a^324 + a^323 + a^319 + a^318 + a^317 + a^314 + a^312 + a^310 + a^306 + a^302 + a^301 + a^299 + a^296 + a^294 + a^289 + a^288 + a^287 + a^286 + a^284 + a^283 + a^282 + a^281 + a^280 + a^279 + a^278 + a^275 + a^274 + a^271 + a^270 + a^266 + a^263 + a^261 + a^257 + a^255 + a^254 + a^253 + a^252 + a^250 + a^249 + a^248 + a^245 + a^243 + a^240 + a^239 + a^238 + a^237 + a^233 + a^231 + a^228 + a^226 + a^224 + a^222 + a^221 + a^219 + a^217 + a^216 + a^213 + a^210 + a^196 + a^195 + a^194 + a^193 + a^192 + a^190 + a^187 + a^185 + a^183 + a^182 + a^177 + a^173 + a^172 + a^171 + a^169 + a^168 + a^165 + a^164 + a^162 + a^161 + a^157 + a^155 + a^154 + a^153 + a^152 + a^150 + a^148 + a^147 + a^145 + a^143 + a^141 + a^140 + a^137 + a^136 + a^134 + a^131 + a^130 + a^129 + a^128 + a^126 + a^124 + a^122 + a^118 + a^116 + a^115 + a^113 + a^112 + a^107 + a^105 + a^104 + a^102 + a^101 + a^100 + a^98 + a^97 + a^93 + a^91 + a^90 + a^88 + a^85 + a^83 + a^82 + a^81 + a^80 + a^79 + a^76 + a^75 + a^73 + a^72 + a^71 + a^70 + a^69 + a^66 + a^64 + a^63 + a^62 + a^60 + a^59 + a^57 + a^54 + a^50 + a^47 + a^45 + a^44 + a^43 + a^39 + a^37 + a^36 + a^35 + a^33 + a^32 + a^29 + a^28 + a^27 + a^25 + a^24 + a^21 + a^19 + a^18 + a^17 + a^12 + a^9 + a^8 + a^6 + a^5 + a^4 + a^3 + a^2 + a + 1)\n",
      "\n",
      "Secret key:  (a^241 + a^230 + a^221, a^247 + a^92 + a^32)\n"
     ]
    }
   ],
   "source": [
    "C = HQC(w = 3, w_e = 3, w_r = 3, C = ProductCode(BCHCode(n = 15, b = 1, D = 7), RepetitionCode(n = 31)), key_type = 'pol')\n",
    "#C = HQC(w = 3, w_e = 3, w_r = 3, C = ProductCode(RSCode(n=9, k=5, q=2**4), RSCode(n=7, k=3, q=2**4)), key_type = 'pol')\n",
    "\n",
    "#C = HQC(w = 2, w_e = 2, w_r = 2, C = ProductCode(RMCode(r = 1, m = 3), RMCode(r = 2, m = 6)), key_type = 'pol')\n",
    "\n",
    "\n",
    "\n",
    "print('Public key: ', C.pk)\n",
    "print('\\nSecret key: ', C.sk)"
   ]
  },
  {
   "cell_type": "code",
   "execution_count": 73,
   "metadata": {},
   "outputs": [
    {
     "data": {
      "text/plain": [
       "5"
      ]
     },
     "execution_count": 73,
     "metadata": {},
     "output_type": "execute_result"
    }
   ],
   "source": [
    "C.k"
   ]
  },
  {
   "cell_type": "code",
   "execution_count": 74,
   "metadata": {},
   "outputs": [
    {
     "name": "stdout",
     "output_type": "stream",
     "text": [
      "('011011100011111100010010010000100110001010000101110110010011010101111100010001010101101010010101101110110100010011110000000111010111101100000000000000111001001101011111000100001010011100000010110011010001011000001011001010111101101100011000101100001110000000100001110100010001110001011011111111100111000010100011110101000000001110011111011110010010001001111111000000011111011111101111001110100111110001100000011010101110101000000110100100000000100110101000010010111101010101111010000111000001101010010100010001100000110011111010100010111110010111111110000011011000000110000100111011110101001011101101011101011101001110001110001010011111111100101110000101100010100111111001101101110011111100101000011100110010111001010101100001011101001011011011101010111000011101001010111100000001101011010101010110001001000100111000111001010001100110110000110010011011100011111000111001101011000010100011100100000100011011000001101100010111011000110011100101011000110111100011101001010100100010110000000011100001001101010001100100011100110011000111101111011110110011111100110011001111100101100001000101011001100010111000010101111011110100001110001010111011100000101100111000001111101010111111110000101000101011001000001010111110110100000001110011111000100100011110000110110101000011111000011100111101001100101100101000111101000011000111011011110110110101011101001101111110000111101110010010001111100000110100010110110011011010111000001110110011000100001011000001001101000110000011111101111000000110111000011010010101000000110001100101001011010011011010110011100010010010110111010100001000101011110001100000111110000000000100010001000010001111000011110011011000100100101100111011101111111001001011001100011001001011111110010011000110010010010001000111111011110011101111001111011100110010011010110010101100001100010100001111100111110100101101010110000001011100010100111011111001', '100011010110011110000010001001101110001111100101000101101110001011110011101101111110110110110110110111111011111000000001010110001110010100001010000110110100111011111100000000111010010010110110101111110000100001000011011010101010010001001000111000111100001001010100001101100100010000001001111110110000001111010000000101101100110001001110100000010101111101101000100100011111011000101011101110000000100011101100000100010010001011001101110010000010100011001001111100000001011111001010010011101000011011010101011110010011011101111101000111011001001011110111000000111011011100010000010111011110011111011001100011111011100011000110100010100011011000101111011100110010110011000100011001011101110000000111100111111000100001110111010110111001100111111010000111111011011001000000010111110100111001001011100001000000110110111110011111100101010001110110010110100111101000010001101011010011011100010011001011011100011010010010111111101001101011010101000010101111011100111010011111011110011110101110100011100010011110100111011100110101111110101101100110111111001111101111010111001111101001011110100101010100010100000010001111111001001101101000010001101110000000101000111000100101110111111000000100100101000001000110000000110011011100011110111001010100101000000101101011010100011111101101010001100011001111110100010000110011101000111101000101000001100000000000001000101100111110010000011111000101001001011011100011000000001110000011011101000001100001001010101001100110100101100000110100000010110100100100000000010000111001000110011101011000101001011100100010110011111011100000100010011111100111110010110110111010011100101110110101010110110111110110111001110000011011000100110001001010101100000100111110110001110011100110100011101110001010101101010101101111001111110101111000110010110110011001101111000011000110011101001100100010001011000111000011001111011101001110011110010101')\n"
     ]
    }
   ],
   "source": [
    "m = '11101111010100011100'\n",
    "#m = [1,1,1,0,1,1,1,1,0,1,0,1,0,0,0]\n",
    "#m = vector(GF(2), [1,0,1,1,1,1,1])\n",
    "\n",
    "c = C.Encrypt(m, out = 'bin')\n",
    "print(c)\n"
   ]
  },
  {
   "cell_type": "code",
   "execution_count": 75,
   "metadata": {},
   "outputs": [
    {
     "name": "stdout",
     "output_type": "stream",
     "text": [
      "11101111010100011100\n"
     ]
    }
   ],
   "source": [
    "d = C.Decrypt(c, out = 'bin')\n",
    "print(d)"
   ]
  },
  {
   "cell_type": "code",
   "execution_count": null,
   "metadata": {},
   "outputs": [],
   "source": [
    "15*63"
   ]
  },
  {
   "cell_type": "code",
   "execution_count": null,
   "metadata": {},
   "outputs": [],
   "source": []
  },
  {
   "cell_type": "code",
   "execution_count": null,
   "metadata": {},
   "outputs": [],
   "source": []
  }
 ],
 "metadata": {
  "kernelspec": {
   "display_name": "SageMath 9.4",
   "language": "sage",
   "name": "sagemath-9.4"
  },
  "language_info": {
   "codemirror_mode": {
    "name": "ipython",
    "version": 3
   },
   "file_extension": ".py",
   "mimetype": "text/x-python",
   "name": "python",
   "nbconvert_exporter": "python",
   "pygments_lexer": "ipython3",
   "version": "3.9.5"
  }
 },
 "nbformat": 4,
 "nbformat_minor": 4
}
