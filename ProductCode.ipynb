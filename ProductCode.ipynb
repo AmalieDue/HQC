{
 "cells": [
  {
   "cell_type": "markdown",
   "metadata": {},
   "source": [
    "## Product Code"
   ]
  },
  {
   "cell_type": "code",
   "execution_count": 15,
   "metadata": {},
   "outputs": [],
   "source": [
    "%run RS.ipynb\n",
    "%run RM.ipynb\n",
    "%run BCH.ipynb\n",
    "%run Repetition.ipynb"
   ]
  },
  {
   "cell_type": "code",
   "execution_count": 16,
   "metadata": {},
   "outputs": [],
   "source": [
    "class ProductCode:\n",
    "    \n",
    "    def __init__ (self, code1, code2):\n",
    "        \n",
    "        self.C1 = code1\n",
    "        self.C2 = code2\n",
    "        \n",
    "        self.n = self.C1.n * self.C2.n\n",
    "        self.k = self.C1.k * self.C2.k\n",
    "        self.d = self.C1.d * self.C2.d\n",
    "        self.delta = floor( (self.d - 1) / 2)\n",
    "        \n",
    "        if self.C1.q != self.C2.q:\n",
    "            raise ValueError('Wrong pair of codes: The fields are not the same')\n",
    "            \n",
    "    def Encoding(self, m, out = 'pol'):\n",
    "        \n",
    "        data_type = self._DetermineInput(m)\n",
    "        \n",
    "        if data_type != self.C1.message_type:\n",
    "            raise ValueError('Message data type does not match the preferred type. The preferred type is: ', self.C1.message_type)\n",
    "                \n",
    "        \n",
    "        c = self.C1.Encoding(m, out = 'int', concatenated_dimension = self.C1.k * self.C2.k)\n",
    "        \n",
    "        c_rotated = []\n",
    "        \n",
    "        for i in range(0, len(c), self.C1.n * self.C2.k):\n",
    "            for j in range(self.C1.n):\n",
    "                for l in range(self.C2.k):\n",
    "                    c_rotated.append(c[i + j + l*self.C1.n])\n",
    "                    \n",
    "                    \n",
    "        c_rotated = self.C2.Encoding(c_rotated, out = out)\n",
    "                \n",
    "        return c_rotated\n",
    "    \n",
    "    \n",
    "    def Decoding(self, r, out = 'bin'):\n",
    "        \n",
    "        # Check input size\n",
    "        if len(r) % (self.C1.n * self.C2.n) != 0:\n",
    "            raise ValueError('Invalid input size')\n",
    "            \n",
    "        c = self.C2.Decoding(r, out = 'int')\n",
    "        \n",
    "        c_rotated = []\n",
    "        \n",
    "        for i in range(0, len(c), self.C1.n * self.C2.k):\n",
    "            for j in range(self.C2.k):\n",
    "                for l in range(self.C1.n):\n",
    "                    c_rotated.append(c[i + j + l*self.C2.k])\n",
    "                \n",
    "        \n",
    "        c_rotated = self.C1.Decoding(c_rotated, out = out)\n",
    "        \n",
    "        return c_rotated\n",
    "    \n",
    "    \n",
    "    def _DetermineInput(self, data):\n",
    "\n",
    "        # determine data type\n",
    "\n",
    "        if isinstance(data, str) and all([(bit == '1' or bit == '0') for bit in data]):\n",
    "            return 'bin'\n",
    "\n",
    "        #elif isinstance(data, list):\n",
    "        if data[0] == None:\n",
    "            return 'none'\n",
    "        elif data[0].parent() == self.C1.F:\n",
    "            return 'pol'\n",
    "        elif data[0].parent() == ZZ:\n",
    "            return 'int'\n",
    "        else:\n",
    "            return 'unknown'"
   ]
  },
  {
   "cell_type": "code",
   "execution_count": 11,
   "metadata": {},
   "outputs": [],
   "source": [
    "#C = ProductCode(RSCode(n=9, k=5, q=2**4), RSCode(n=7, k=3, q=2**4))\n",
    "#print('Product code length: ', C.C1.n * C.C2.n)\n",
    "#print('Product code delta: ', floor( (C.C1.d * C.C2.d - 1) / 2))\n",
    "#m = [1,2,3,4,5,6,7]\n",
    "#c = C.Encoding(m, out = 'pol')\n",
    "#print(\"Codeword: \", c)\n",
    "#d = C.Decoding(c, out = 'int')\n",
    "#print(d)"
   ]
  },
  {
   "cell_type": "code",
   "execution_count": 12,
   "metadata": {},
   "outputs": [],
   "source": [
    "#C = ProductCode(RMCode(r = 1, m = 3), RMCode(r = 2, m = 7))\n",
    "#print('Product code length: ', C.C1.n * C.C2.n)\n",
    "#print('Product code delta: ', floor( (C.C1.d * C.C2.d - 1) / 2))\n",
    "#m = '1010101001'\n",
    "#c = C.Encoding(m, out = 'bin')\n",
    "#print(c)\n",
    "#d = C.Decoding(c, out = 'int')\n",
    "#print(d)"
   ]
  },
  {
   "cell_type": "code",
   "execution_count": 13,
   "metadata": {},
   "outputs": [],
   "source": [
    "#C = ProductCode(BCHCode(n = 511, b = 1, D = 7), RepetitionCode(n = 31))\n",
    "#print('Product code length: ', C.C1.n * C.C2.n)\n",
    "#print('Product code delta: ', floor( (C.C1.D * C.C2.d - 1) / 2))\n",
    "#m = '1010'\n",
    "#c = C.Encoding(m, out = 'bin')\n",
    "#print(c)\n",
    "#d = C.Decoding(c, out = 'int')\n",
    "#print(d)"
   ]
  },
  {
   "cell_type": "code",
   "execution_count": null,
   "metadata": {},
   "outputs": [],
   "source": []
  }
 ],
 "metadata": {
  "kernelspec": {
   "display_name": "SageMath 9.4",
   "language": "sage",
   "name": "sagemath-9.4"
  },
  "language_info": {
   "codemirror_mode": {
    "name": "ipython",
    "version": 3
   },
   "file_extension": ".py",
   "mimetype": "text/x-python",
   "name": "python",
   "nbconvert_exporter": "python",
   "pygments_lexer": "ipython3",
   "version": "3.9.5"
  }
 },
 "nbformat": 4,
 "nbformat_minor": 4
}
