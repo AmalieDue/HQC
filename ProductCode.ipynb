{
 "cells": [
  {
   "cell_type": "markdown",
   "metadata": {},
   "source": [
    "## Product Code"
   ]
  },
  {
   "cell_type": "code",
   "execution_count": 1,
   "metadata": {},
   "outputs": [],
   "source": [
    "%run RS.ipynb\n",
    "%run RM.ipynb\n",
    "%run BCH.ipynb\n",
    "%run Repetition.ipynb"
   ]
  },
  {
   "cell_type": "code",
   "execution_count": 2,
   "metadata": {},
   "outputs": [],
   "source": [
    "class ProductCode:\n",
    "    \n",
    "    def __init__ (self, code1, code2):\n",
    "        \n",
    "        self.C1 = code1\n",
    "        self.C2 = code2\n",
    "        \n",
    "        self.n = self.C1.n * self.C2.n\n",
    "        self.k = self.C1.k * self.C2.k\n",
    "        self.d = self.C1.d * self.C2.d\n",
    "        self.delta = floor( (self.d - 1) / 2)\n",
    "        \n",
    "        if self.C1.q != self.C2.q:\n",
    "            raise ValueError('Wrong pair of codes: The fields are not the same')\n",
    "            \n",
    "    def Encoding(self, m, out = 'pol'):        \n",
    "        \n",
    "        c = self.C1.Encoding(m, out = 'int', product_k = self.k)\n",
    "        \n",
    "        c_rotated = []\n",
    "        \n",
    "        for i in range(0, len(c), self.C1.n * self.C2.k):\n",
    "            for j in range(self.C1.n):\n",
    "                for l in range(self.C2.k):\n",
    "                    c_rotated.append(c[i + j + l*self.C1.n])\n",
    "                    \n",
    "                    \n",
    "        c_rotated = self.C2.Encoding(c_rotated, out = out)\n",
    "                \n",
    "        return c_rotated\n",
    "    \n",
    "    \n",
    "    def Decoding(self, r, out = 'bin'):\n",
    "            \n",
    "        c = self.C2.Decoding(r, out = 'int')\n",
    "        \n",
    "        c_rotated = []\n",
    "        \n",
    "        for i in range(0, len(c), self.C1.n * self.C2.k):\n",
    "            for j in range(self.C2.k):\n",
    "                for l in range(self.C1.n):\n",
    "                    c_rotated.append(c[i + j + l*self.C2.k])\n",
    "                \n",
    "        \n",
    "        c_rotated = self.C1.Decoding(c_rotated, out = out)\n",
    "        \n",
    "        return c_rotated"
   ]
  },
  {
   "cell_type": "code",
   "execution_count": 3,
   "metadata": {},
   "outputs": [],
   "source": [
    "#C = ProductCode(RSCode(n=15, k=7, q=2**4), RSCode(n=7, k=3, q=2**4))"
   ]
  },
  {
   "cell_type": "code",
   "execution_count": 4,
   "metadata": {},
   "outputs": [],
   "source": [
    "#m = '111011110101000111011110101000111011110101000111011110101000111011110101000111011110'\n",
    "\n",
    "#print('Product code length: ', C.C1.n * C.C2.n)\n",
    "#print('Product code delta: ', floor( (C.C1.d * C.C2.d - 1) / 2))\n",
    "#m = [1,2,3,4,5,6,7]\n",
    "#c = C.Encoding(m, out = 'bin')\n",
    "#print(4*9*7)\n",
    "#print(\"Codeword: \", c)\n",
    "#d = C.Decoding(c, out = 'bin')\n",
    "#print(d)"
   ]
  },
  {
   "cell_type": "code",
   "execution_count": 5,
   "metadata": {},
   "outputs": [],
   "source": [
    "#m = []\n",
    "#for i in range(C.k):\n",
    "#    m.append(ZZ.random_element(0,C.q))\n",
    "  \n",
    "#m = '111011110101000111011110101000111011110101000111011110101000111011110101000111011110'    \n",
    "    \n",
    "#for j in range(100):\n",
    "#    c = C.Encoding(m, out ='int')\n",
    "\n",
    "#    positions = []\n",
    "#    for i in range(13): # add delta errors\n",
    "#        position = ZZ.random_element(0,C.n)\n",
    "#        while position in positions:\n",
    "#            position = ZZ.random_element(0,C.n)  \n",
    "\n",
    "#        positions.append(position)\n",
    "#        c[position] = 0 # add error\n",
    "\n",
    "    #print(positions)\n",
    "#    d = C.Decoding(c)\n",
    "\n",
    "#    print('Decoding status: ', d == m)"
   ]
  },
  {
   "cell_type": "code",
   "execution_count": null,
   "metadata": {},
   "outputs": [],
   "source": []
  }
 ],
 "metadata": {
  "kernelspec": {
   "display_name": "SageMath 9.4",
   "language": "sage",
   "name": "sagemath-9.4"
  },
  "language_info": {
   "codemirror_mode": {
    "name": "ipython",
    "version": 3
   },
   "file_extension": ".py",
   "mimetype": "text/x-python",
   "name": "python",
   "nbconvert_exporter": "python",
   "pygments_lexer": "ipython3",
   "version": "3.9.5"
  }
 },
 "nbformat": 4,
 "nbformat_minor": 4
}
