{
 "cells": [
  {
   "cell_type": "markdown",
   "metadata": {},
   "source": [
    "## Product Code"
   ]
  },
  {
   "cell_type": "code",
   "execution_count": null,
   "metadata": {},
   "outputs": [],
   "source": [
    "%run RS.ipynb\n",
    "%run RM.ipynb\n",
    "%run BCH.ipynb\n",
    "%run Repetition.ipynb\n",
    "#from sage.all import *\n",
    "#from RS import *\n",
    "#from RM import *\n",
    "#from BCH import *\n",
    "#from Repetition import *\n",
    "\n",
    "import numpy as np\n",
    "\n",
    "class ProductCode:\n",
    "    \n",
    "    def __init__ (self, code1, code2):\n",
    "        \n",
    "        self.C1 = code1\n",
    "        self.C2 = code2\n",
    "        \n",
    "        self.n = self.C1.n * self.C2.n\n",
    "        self.k = self.C1.k * self.C2.k\n",
    "        self.d = self.C1.d * self.C2.d\n",
    "        self.delta = floor( (self.C1.d - 1) / 2) * floor( (self.C2.d - 1) / 2)\n",
    "        \n",
    "        if self.C1.q != self.C2.q:\n",
    "            raise ValueError('Wrong pair of codes: The fields are not the same')\n",
    "            \n",
    "    def Encoding(self, m, out = 'bin'):        \n",
    "        \n",
    "        c = self.C1.Encoding(m, out = 'int', product_k = self.k)\n",
    "        \n",
    "        c_total = []\n",
    "        for i in range(0, len(c), self.C2.k * self.C1.n):\n",
    "            c_chunk = np.reshape(c[i:i+self.C2.k * self.C1.n], (self.C2.k, self.C1.n))\n",
    "            c_chunk = c_chunk.transpose()\n",
    "            c_chunk = c_chunk.flatten()\n",
    "            c_chunk = vector(ZZ, c_chunk)  \n",
    "            c_total.extend(c_chunk)\n",
    "                    \n",
    "        c_total = self.C2.Encoding(c_total, out = out)\n",
    "                \n",
    "        return c_total\n",
    "    \n",
    "    \n",
    "    def Decoding(self, r, out = 'bin'):\n",
    "            \n",
    "        d = self.C2.Decoding(r, out = 'int', product_n = self.n)\n",
    "        \n",
    "        d_total = []\n",
    "        for i in range(0, len(d), self.C1.n * self.C2.k):\n",
    "            d_chunk = np.reshape(d[i:i+self.C1.n * self.C2.k], (self.C1.n, self.C2.k))\n",
    "            d_chunk = d_chunk.transpose()\n",
    "            d_chunk = d_chunk.flatten()\n",
    "            d_chunk = vector(ZZ, d_chunk)\n",
    "            d_total.extend(d_chunk)\n",
    "        \n",
    "        d_total = self.C1.Decoding(d_total, out = out)\n",
    "        \n",
    "        return d_total"
   ]
  },
  {
   "cell_type": "code",
   "execution_count": null,
   "metadata": {},
   "outputs": [],
   "source": [
    "#C = ProductCode(RSCode(n=8, k=5, q=2**4), RMCode(r=1, m=3, q=2))\n",
    "#C = ProductCode(RSCode(n=127, k=8, q=2**8), RSCode(n=17, k=2, q=2**8))\n",
    "#C = ProductCode(RMCode(r = 1, m = 3, q = 2), RMCode(r = 1, m = 3, q = 2))\n",
    "#C = ProductCode(RMCode(r = 2, m = 8, q = 2), RMCode(r = 1, m = 6, q = 2))\n",
    "#C = ProductCode(BCHCode(n = 1023, b = 1, D = 115, q = 2, shortening = 257), RepetitionCode(n = 31, q = 2))\n",
    "#C.k\n",
    "#C = ProductCode(BCHCode(n = 15, b = 1, D = 7, q = 2), RepetitionCode(n = 8, q = 2))"
   ]
  },
  {
   "cell_type": "code",
   "execution_count": null,
   "metadata": {},
   "outputs": [],
   "source": [
    "#m = '11001100110011001100'\n",
    "#c = C.Encoding(m, out = 'bin')\n",
    "#print(\"Codeword: \", c)\n",
    "\n",
    "#m = '111011110101000111011110101000111011110101000111011110101000111011110101000111011110'\n",
    "\n",
    "#print('Product code length: ', C.C1.n * C.C2.n)\n",
    "#print('Product code delta: ', floor( (C.C1.d * C.C2.d - 1) / 2))\n",
    "#m = [1,2,3,4,5,6,7]\n",
    "#c = C.Encoding(m, out = 'bin')\n",
    "#print(4*9*7)\n",
    "#print(\"Codeword: \", c)\n",
    "#d = C.Decoding(c, out = 'bin')\n",
    "#print(d)"
   ]
  },
  {
   "cell_type": "code",
   "execution_count": null,
   "metadata": {},
   "outputs": [],
   "source": []
  },
  {
   "cell_type": "code",
   "execution_count": null,
   "metadata": {},
   "outputs": [],
   "source": []
  }
 ],
 "metadata": {
  "kernelspec": {
   "display_name": "SageMath 9.4",
   "language": "sage",
   "name": "sagemath-9.4"
  },
  "language_info": {
   "codemirror_mode": {
    "name": "ipython",
    "version": 3
   },
   "file_extension": ".py",
   "mimetype": "text/x-python",
   "name": "python",
   "nbconvert_exporter": "python",
   "pygments_lexer": "ipython3",
   "version": "3.9.5"
  }
 },
 "nbformat": 4,
 "nbformat_minor": 4
}
